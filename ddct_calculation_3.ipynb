{
  "nbformat": 4,
  "nbformat_minor": 5,
  "metadata": {
    "kernelspec": {
      "display_name": "Python 3",
      "language": "python",
      "name": "python3"
    },
    "language_info": {
      "codemirror_mode": {
        "name": "ipython",
        "version": 3
      },
      "file_extension": ".py",
      "mimetype": "text/x-python",
      "name": "python",
      "nbconvert_exporter": "python",
      "pygments_lexer": "ipython3",
      "version": "3.8.8"
    },
    "colab": {
      "name": "ddct_calculation (2).ipynb",
      "provenance": [],
      "include_colab_link": true
    }
  },
  "cells": [
    {
      "cell_type": "markdown",
      "metadata": {
        "id": "view-in-github",
        "colab_type": "text"
      },
      "source": [
        "<a href=\"https://colab.research.google.com/github/seoriahn/pythons/blob/main/ddct_calculation_3.ipynb\" target=\"_parent\"><img src=\"https://colab.research.google.com/assets/colab-badge.svg\" alt=\"Open In Colab\"/></a>"
      ]
    },
    {
      "cell_type": "code",
      "metadata": {
        "colab": {
          "base_uri": "https://localhost:8080/"
        },
        "id": "7274f1df",
        "outputId": "06fef2e1-e154-457b-fd04-0eb331903bc7"
      },
      "source": [
        "import pandas as pd\n",
        "\n",
        "\n",
        "xlsx_skip = pd.read_excel('/content/admin_2021-11-12 07-06-34_BR007825 shsy5y -  Gene Expression Results - Bar Chart.xlsx', usecols=[2,3,34])\n",
        "\n",
        "grouped_Target = xlsx_skip.groupby('Target')\n",
        "\n",
        "sample_numb = len(xlsx_skip[xlsx_skip['Target'] == 'GAPDH'])\n",
        "target_numb = len(grouped_Target.first().index)\n",
        "\n",
        "print('There is/are %d samples' % sample_numb)\n",
        "print('There is/are %d Targets' % target_numb)\n",
        "\n",
        "stnumb = sample_numb * target_numb \n",
        "grouped_st = xlsx_skip.groupby(['Sample', 'Target'])\n",
        "df_use = xlsx_skip[xlsx_skip['Target'] == 'GAPDH']\n",
        "df_use\n",
        "val = df_use['Sample']\n",
        "valist = list(val)\n",
        "print(valist)\n",
        "\n",
        "kk = xlsx_skip[xlsx_skip['Target'] == 'GAPDH'].index.tolist()\n",
        "kay = kk[0]\n",
        "lay = xlsx_skip.index.tolist()\n",
        "lay\n",
        "\n",
        "ddf = pd.DataFrame(columns = ['Sample', 'Target', 'ddct'])\n",
        "\n",
        "for i in range(1, stnumb+1):\n",
        "\n",
        "    #print(xlsx_skip.iloc[])\n",
        "\n",
        "    if lay[i-1]% sample_numb == 0:\n",
        "          ddf.loc[i-1] = [xlsx_skip.iloc[i-1, 1], xlsx_skip.iloc[i-1, 0] , 2**(-xlsx_skip.iloc[i-1, 2])/2**(-xlsx_skip.iloc[kay, 2])]\n",
        "    if lay[i-1]% sample_numb == 1:\n",
        "          ddf.loc[i-1] = [xlsx_skip.iloc[i-1, 1], xlsx_skip.iloc[i-1, 0] , 2**(-xlsx_skip.iloc[i-1, 2])/2**(-xlsx_skip.iloc[kay+1, 2])]\n",
        "    if lay[i-1]% sample_numb == 2:\n",
        "          ddf.loc[i-1] = [xlsx_skip.iloc[i-1, 1], xlsx_skip.iloc[i-1, 0] , 2**(-xlsx_skip.iloc[i-1, 2])/2**(-xlsx_skip.iloc[kay+2, 2])]\n",
        "#    if lay[i-1]% sample_numb == 3:\n",
        "#          ddf.loc[i-1] = [xlsx_skip.iloc[i-1, 1], xlsx_skip.iloc[i-1, 0] , 2**(-xlsx_skip.iloc[i-1, 2])/2**(-xlsx_skip.iloc[kay+3, 2])]\n",
        "\n",
        "ddf.to_csv('/content/result_test1.csv', index=False)\n",
        "\n"
      ],
      "id": "7274f1df",
      "execution_count": 6,
      "outputs": [
        {
          "output_type": "stream",
          "name": "stdout",
          "text": [
            "There is/are 3 samples\n",
            "There is/are 5 Targets\n",
            "['shsy5y d1_d', 'shsy5y d1_m', 'shsy5y d3_m']\n"
          ]
        }
      ]
    },
    {
      "cell_type": "markdown",
      "metadata": {
        "id": "f96566e5"
      },
      "source": [
        "# "
      ],
      "id": "f96566e5"
    },
    {
      "cell_type": "code",
      "metadata": {
        "id": "3ea1d15b"
      },
      "source": [
        ""
      ],
      "id": "3ea1d15b",
      "execution_count": 2,
      "outputs": []
    },
    {
      "cell_type": "code",
      "metadata": {
        "id": "b4e8aca2"
      },
      "source": [
        ""
      ],
      "id": "b4e8aca2",
      "execution_count": 2,
      "outputs": []
    },
    {
      "cell_type": "code",
      "metadata": {
        "id": "fa07b9a6"
      },
      "source": [
        ""
      ],
      "id": "fa07b9a6",
      "execution_count": 2,
      "outputs": []
    }
  ]
}