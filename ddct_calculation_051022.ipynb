{
  "nbformat": 4,
  "nbformat_minor": 5,
  "metadata": {
    "kernelspec": {
      "display_name": "Python 3",
      "language": "python",
      "name": "python3"
    },
    "language_info": {
      "codemirror_mode": {
        "name": "ipython",
        "version": 3
      },
      "file_extension": ".py",
      "mimetype": "text/x-python",
      "name": "python",
      "nbconvert_exporter": "python",
      "pygments_lexer": "ipython3",
      "version": "3.8.8"
    },
    "colab": {
      "name": "ddct_calculation_051022.ipynb",
      "provenance": [],
      "collapsed_sections": [],
      "include_colab_link": true
    }
  },
  "cells": [
    {
      "cell_type": "markdown",
      "metadata": {
        "id": "view-in-github",
        "colab_type": "text"
      },
      "source": [
        "<a href=\"https://colab.research.google.com/github/seoriahn/pythons/blob/main/ddct_calculation_051022.ipynb\" target=\"_parent\"><img src=\"https://colab.research.google.com/assets/colab-badge.svg\" alt=\"Open In Colab\"/></a>"
      ]
    },
    {
      "cell_type": "code",
      "source": [
        "import pandas as pd"
      ],
      "metadata": {
        "id": "AKm0D2GNmMj8"
      },
      "id": "AKm0D2GNmMj8",
      "execution_count": 1,
      "outputs": []
    },
    {
      "cell_type": "code",
      "source": [
        "xlsx_skip = pd.read_excel('~/input.xlsx', usecols=[2,3,34])\n",
        "\n",
        "grouped_Target = xlsx_skip.groupby('Target')\n",
        "\n",
        "sample_numb = len(xlsx_skip[xlsx_skip['Target'] == 'GAPDH'])\n",
        "target_numb = len(grouped_Target.first().index)\n",
        "\n",
        "print('There is/are %d samples' % sample_numb)\n",
        "print('There is/are %d Targets' % target_numb)\n",
        "\n",
        "stnumb = sample_numb * target_numb \n",
        "grouped_st = xlsx_skip.groupby(['Sample', 'Target'])\n",
        "df_use = xlsx_skip[xlsx_skip['Target'] == 'GAPDH']\n",
        "df_use\n",
        "val = df_use['Sample']\n",
        "valist = list(val)\n",
        "print(valist)\n",
        "\n",
        "kk = xlsx_skip[xlsx_skip['Target'] == 'GAPDH'].index.tolist()\n",
        "kay = kk[0]\n",
        "lay = xlsx_skip.index.tolist()"
      ],
      "metadata": {
        "id": "MlwUaPwCKDtF"
      },
      "id": "MlwUaPwCKDtF",
      "execution_count": null,
      "outputs": []
    },
    {
      "cell_type": "code",
      "metadata": {
        "id": "7274f1df"
      },
      "source": [
        "ddf = pd.DataFrame(columns = ['Sample', 'Target', 'ddct'])\n",
        "\n",
        "for i in range(1, stnumb+1):\n",
        "    for j in range(1, sample_numb+1):\n",
        "      if lay[i-1]% sample_numb == j-1:\n",
        "        ddf.loc[i-1] = [xlsx_skip.iloc[i-1, 1], xlsx_skip.iloc[i-1, 0] , 2**(-xlsx_skip.iloc[i-1, 2])/2**(-xlsx_skip.iloc[kay+j-1, 2])]\n",
        "\n",
        "ddf.to_csv('/content/output.csv', index=False)\n",
        "\n"
      ],
      "id": "7274f1df",
      "execution_count": 18,
      "outputs": []
    }
  ]
}